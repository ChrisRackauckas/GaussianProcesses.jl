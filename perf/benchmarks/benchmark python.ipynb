{
 "cells": [
  {
   "cell_type": "code",
   "execution_count": 7,
   "metadata": {},
   "outputs": [],
   "source": [
    "import GPy\n",
    "import numpy as np\n",
    "\n",
    "d = 10\n",
    "nobsv=3000\n",
    "X = np.random.normal(size=(nobsv,d))\n",
    "Y = np.random.normal(size=(nobsv,1))"
   ]
  },
  {
   "cell_type": "code",
   "execution_count": 8,
   "metadata": {},
   "outputs": [],
   "source": [
    "import timeit"
   ]
  },
  {
   "cell_type": "code",
   "execution_count": 9,
   "metadata": {},
   "outputs": [],
   "source": [
    "kern = GPy.kern # shorter\n",
    "common_kwargs = {\"lengthscale\": 1.0, \"variance\": 1.0}\n",
    "kerns = {\n",
    "    \"se\": kern.RBF(d, **common_kwargs),\n",
    "    \"mat12\": kern.Exponential(d, **common_kwargs),\n",
    "    \"rq\": kern.RatQuad(d, power=1.0, **common_kwargs),\n",
    "    \"se+rq\":   kern.RBF(d, **common_kwargs)\n",
    "             + kern.RatQuad(d, power=1.0, **common_kwargs),\n",
    "    \"se*rq\":   kern.RBF(d, **common_kwargs)\n",
    "             * kern.RatQuad(d, power=1.0, **common_kwargs),\n",
    "    \"se+se2+rq\":   kern.RBF(d, **common_kwargs)+kern.RBF(d, **common_kwargs)\n",
    "                 + kern.RatQuad(d, power=1.0, **common_kwargs),\n",
    "    \"(se+se2)*rq\": (kern.RBF(d, **common_kwargs)\n",
    "                    +kern.RBF(d, **common_kwargs)\n",
    "                   ) * \n",
    "                   kern.RatQuad(d, power=1.0, **common_kwargs),\n",
    "    \"mask(se, [1])\": kern.RBF(1, active_dims=[0], **common_kwargs),\n",
    "    \"mask(se, [1])+mask(rq, [2:10])\":    kern.RBF(1, active_dims=[0], **common_kwargs)  \n",
    "                                    + kern.RatQuad(d-1, power=1.0, active_dims=range(1,d), **common_kwargs),\n",
    "}\n",
    "sefix = kern.RBF(2, **common_kwargs)\n",
    "sefix.variance.fix()\n",
    "kerns[\"fix(se, σ)\"] = sefix"
   ]
  },
  {
   "cell_type": "code",
   "execution_count": 10,
   "metadata": {},
   "outputs": [
    {
     "name": "stderr",
     "output_type": "stream",
     "text": [
      " /Users/imolk/bin/venv_python3/lib/python3.6/site-packages/GPy/core/gp.py:87: UserWarning:Your kernel has a different input dimension 1 then the given X dimension 10. Be very sure this is what you want and you have not forgotten to set the right input dimenion in your kernel\n",
      " /Users/imolk/bin/venv_python3/lib/python3.6/site-packages/GPy/core/gp.py:87: UserWarning:Your kernel has a different input dimension 2 then the given X dimension 10. Be very sure this is what you want and you have not forgotten to set the right input dimenion in your kernel\n"
     ]
    }
   ],
   "source": [
    "mintimes = {}\n",
    "for (label, k) in kerns.items():\n",
    "    import gc\n",
    "    gc.collect()\n",
    "    gp = GPy.models.GPRegression(X, Y, k, noise_var=1.0)\n",
    "    gc.collect()\n",
    "    times = timeit.repeat(\"gp.parameters_changed()\", setup=\"from __main__ import gp;gc.collect()\", repeat=10, number=1)\n",
    "    gc.collect()\n",
    "    mintimes[label] = np.min(times)"
   ]
  },
  {
   "cell_type": "code",
   "execution_count": 11,
   "metadata": {},
   "outputs": [
    {
     "name": "stdout",
     "output_type": "stream",
     "text": [
      "                            se: 1267.3\n",
      "                         mat12: 1253.6\n",
      "                            rq: 1820.2\n",
      "                         se+rq: 1855.1\n",
      "                         se*rq: 1945.5\n",
      "                     se+se2+rq: 1976.9\n",
      "                   (se+se2)*rq: 2063.0\n",
      "                 mask(se, [1]): 1285.6\n",
      "mask(se, [1])+mask(rq, [2:10]): 1882.3\n",
      "                    fix(se, σ): 1271.8\n"
     ]
    }
   ],
   "source": [
    "for k in mintimes.keys():\n",
    "    print(\"%30s: %4.1f\" % (k, mintimes[k]*1000.0))"
   ]
  },
  {
   "cell_type": "code",
   "execution_count": 12,
   "metadata": {},
   "outputs": [],
   "source": [
    "with open(\"bench_results/GPy.csv\", \"w\") as f:\n",
    "    for k,v in mintimes.items():\n",
    "        f.write(\"\\\"%s\\\",%f\\n\" % (k,v*1000))"
   ]
  }
 ],
 "metadata": {
  "hide_input": false,
  "hide_markdown_input": false,
  "kernelspec": {
   "display_name": "python3 venv",
   "language": "python",
   "name": "python3"
  },
  "language_info": {
   "codemirror_mode": {
    "name": "ipython",
    "version": 3
   },
   "file_extension": ".py",
   "mimetype": "text/x-python",
   "name": "python",
   "nbconvert_exporter": "python",
   "pygments_lexer": "ipython3",
   "version": "3.6.5"
  },
  "nav_menu": {},
  "toc": {
   "nav_menu": {},
   "number_sections": true,
   "sideBar": true,
   "skip_h1_title": false,
   "title_cell": "Table of Contents",
   "title_sidebar": "Contents",
   "toc_cell": false,
   "toc_position": {},
   "toc_section_display": "block",
   "toc_window_display": false
  }
 },
 "nbformat": 4,
 "nbformat_minor": 1
}
