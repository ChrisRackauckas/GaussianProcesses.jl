{
 "cells": [
  {
   "cell_type": "code",
   "execution_count": 1,
   "metadata": {},
   "outputs": [],
   "source": [
    "using GaussianProcesses\n",
    "using GaussianProcesses: update_mll_and_dmll!, update_cK!\n",
    "using BenchmarkTools\n",
    "using DataFrames\n",
    "using JLD\n",
    "\n",
    "const d = 10        # Input observation dimension\n",
    "const nt = 3000     # Number of training points\n",
    "\n",
    "kerns = Dict(\n",
    "    \"se\" => SEIso(0.0,0.0),\n",
    "    \"mat12\" => Mat12Iso(0.0,0.0),\n",
    "    \"rq\" => RQIso(0.0,0.0,0.0),\n",
    "    \"se+rq\" => SEIso(0.0,0.0) + RQIso(0.0,0.0,0.0),\n",
    "    \"se*rq\" => SEIso(0.0,0.0) * RQIso(0.0,0.0,0.0),\n",
    "    \"se+se2+rq\" => SEIso(0.0,0.0) + SEIso(0.5,0.5) + RQIso(0.0,0.0,0.0),\n",
    "    \"(se+se2)*rq\" => (SEIso(0.0,0.0) + SEIso(0.5,0.5)) * RQIso(0.0,0.0,0.0),\n",
    "    \"mask(se, [1])\" => Masked(SEIso(0.0,0.0), [1]),\n",
    "    \"mask(se, [1])+mask(rq, [2:10])\" =>  Masked(SEIso(0.0,0.0), [1]) +  Masked(RQIso(0.0,0.0,0.0), collect(2:10)),\n",
    "    \"fix(se, σ)\" => fix(SEIso(0.0,0.0), :lσ)\n",
    "    )\n",
    "    \n",
    "function benchmark_kernel(group, kern)\n",
    "    srand(1)\n",
    "    X = randn(d, nt) # Training data\n",
    "    Y = randn(nt)\n",
    "    buf1=Array{Float64}(nt,nt)\n",
    "    buf2=Array{Float64}(nt,nt)\n",
    "    gp = GP(X, Y, MeanConst(0.0), kern, log(0.0))\n",
    "    group[\"cK\"] = @benchmarkable update_cK!($gp)\n",
    "    group[\"mll_and_dmll\"] = @benchmarkable update_mll_and_dmll!($gp, $buf1, $buf2)\n",
    "end\n",
    "\n",
    "SUITE = BenchmarkGroup()\n",
    "\n",
    "for (label, k) in kerns\n",
    "    SUITE[label] = BenchmarkGroup([label])\n",
    "    benchmark_kernel(SUITE[label], k)\n",
    "end\n",
    ";"
   ]
  },
  {
   "cell_type": "code",
   "execution_count": 2,
   "metadata": {},
   "outputs": [],
   "source": [
    "results = run(SUITE, verbose=false, seconds=1000, samples=10, evals=1)\n",
    ";"
   ]
  },
  {
   "cell_type": "code",
   "execution_count": 3,
   "metadata": {},
   "outputs": [
    {
     "name": "stdout",
     "output_type": "stream",
     "text": [
      "10×2 DataFrames.DataFrame\n",
      "│ Row │ kernel                         │ times   │\n",
      "├─────┼────────────────────────────────┼─────────┤\n",
      "│ 1   │ (se+se2)*rq                    │ 4132.11 │\n",
      "│ 2   │ fix(se, σ)                     │ 750.404 │\n",
      "│ 3   │ mask(se, [1])                  │ 877.406 │\n",
      "│ 4   │ mask(se, [1])+mask(rq, [2:10]) │ 1768.58 │\n",
      "│ 5   │ mat12                          │ 840.417 │\n",
      "│ 6   │ rq                             │ 1256.13 │\n",
      "│ 7   │ se                             │ 841.701 │\n",
      "│ 8   │ se*rq                          │ 2567.79 │\n",
      "│ 9   │ se+rq                          │ 1578.85 │\n",
      "│ 10  │ se+se2+rq                      │ 1937.14 │"
     ]
    }
   ],
   "source": [
    "knames = sort(collect(keys(kerns)))\n",
    "times = [time(results[k][\"mll_and_dmll\"])/10^6 for k in knames]\n",
    "\n",
    "df = DataFrame(kernel = knames, times=times)\n",
    "print(df)"
   ]
  },
  {
   "cell_type": "code",
   "execution_count": 4,
   "metadata": {},
   "outputs": [
    {
     "name": "stderr",
     "output_type": "stream",
     "text": [
      "\u001b[1m\u001b[33mWARNING: \u001b[39m\u001b[22m\u001b[33mwritetable is deprecated, use CSV.write from the CSV package instead\u001b[39m\n",
      "Stacktrace:\n",
      " [1] \u001b[1mdepwarn\u001b[22m\u001b[22m\u001b[1m(\u001b[22m\u001b[22m::String, ::Symbol\u001b[1m)\u001b[22m\u001b[22m at \u001b[1m./deprecated.jl:70\u001b[22m\u001b[22m\n",
      " [2] \u001b[1m#writetable#223\u001b[22m\u001b[22m\u001b[1m(\u001b[22m\u001b[22m::Bool, ::Char, ::Char, ::String, ::Bool, ::Function, ::String, ::DataFrames.DataFrame\u001b[1m)\u001b[22m\u001b[22m at \u001b[1m/Users/imolk/Library/Julia/packages_experimental/v0.6/DataFrames/src/deprecated.jl:69\u001b[22m\u001b[22m\n",
      " [3] \u001b[1m(::DataFrames.#kw##writetable)\u001b[22m\u001b[22m\u001b[1m(\u001b[22m\u001b[22m::Array{Any,1}, ::DataFrames.#writetable, ::String, ::DataFrames.DataFrame\u001b[1m)\u001b[22m\u001b[22m at \u001b[1m./<missing>:0\u001b[22m\u001b[22m\n",
      " [4] \u001b[1minclude_string\u001b[22m\u001b[22m\u001b[1m(\u001b[22m\u001b[22m::String, ::String\u001b[1m)\u001b[22m\u001b[22m at \u001b[1m/Users/imolk/bin/julia_v0.6.2_binary/lib/julia/sys.dylib:?\u001b[22m\u001b[22m\n",
      " [5] \u001b[1mexecute_request\u001b[22m\u001b[22m\u001b[1m(\u001b[22m\u001b[22m::ZMQ.Socket, ::IJulia.Msg\u001b[1m)\u001b[22m\u001b[22m at \u001b[1m/Users/imolk/Library/Julia/packages_experimental/v0.6/IJulia/src/execute_request.jl:158\u001b[22m\u001b[22m\n",
      " [6] \u001b[1m(::Compat.#inner#17{Array{Any,1},IJulia.#execute_request,Tuple{ZMQ.Socket,IJulia.Msg}})\u001b[22m\u001b[22m\u001b[1m(\u001b[22m\u001b[22m\u001b[1m)\u001b[22m\u001b[22m at \u001b[1m/Users/imolk/Library/Julia/packages_experimental/v0.6/Compat/src/Compat.jl:385\u001b[22m\u001b[22m\n",
      " [7] \u001b[1meventloop\u001b[22m\u001b[22m\u001b[1m(\u001b[22m\u001b[22m::ZMQ.Socket\u001b[1m)\u001b[22m\u001b[22m at \u001b[1m/Users/imolk/Library/Julia/packages_experimental/v0.6/IJulia/src/eventloop.jl:8\u001b[22m\u001b[22m\n",
      " [8] \u001b[1m(::IJulia.##14#17)\u001b[22m\u001b[22m\u001b[1m(\u001b[22m\u001b[22m\u001b[1m)\u001b[22m\u001b[22m at \u001b[1m./task.jl:335\u001b[22m\u001b[22m\n",
      "while loading In[4], in expression starting on line 1\n"
     ]
    }
   ],
   "source": [
    "writetable(\"bench_results/GaussianProcesses_jl.csv\", df, header=false)"
   ]
  }
 ],
 "metadata": {
  "hide_input": false,
  "hide_markdown_input": false,
  "kernelspec": {
   "display_name": "Julia 0.6.2 Experimental",
   "language": "julia",
   "name": "julia-0.6-experimental"
  },
  "language_info": {
   "file_extension": ".jl",
   "mimetype": "application/julia",
   "name": "julia",
   "version": "0.6.2"
  },
  "toc": {
   "nav_menu": {},
   "number_sections": true,
   "sideBar": true,
   "skip_h1_title": false,
   "title_cell": "Table of Contents",
   "title_sidebar": "Contents",
   "toc_cell": false,
   "toc_position": {},
   "toc_section_display": true,
   "toc_window_display": true
  }
 },
 "nbformat": 4,
 "nbformat_minor": 2
}
