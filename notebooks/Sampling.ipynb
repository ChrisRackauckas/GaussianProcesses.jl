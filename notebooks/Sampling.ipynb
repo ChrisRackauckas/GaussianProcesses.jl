{
 "cells": [
  {
   "cell_type": "markdown",
   "metadata": {},
   "source": [
    "# Sampling from the GP"
   ]
  },
  {
   "cell_type": "markdown",
   "metadata": {},
   "source": [
    "After specifying a mean and covariance function it's straightforward to sample from the GP prior using the `rand` function."
   ]
  },
  {
   "cell_type": "code",
   "execution_count": null,
   "metadata": {
    "collapsed": true
   },
   "outputs": [],
   "source": [
    "# Select mean and covariance function\n",
    "using PyPlot, GaussianProcesses\n",
    "\n",
    "mZero = MeanZero()\n",
    "kern = SE(0.0,0.0)*Mat(3/2,2.0,0.5) \n",
    "\n",
    "# Specify the GP prior\n",
    "gp = GP(m=mZero,k=kern)     \n",
    "\n",
    "x_path = collect(linspace(-5,5)) #Range to sample over\n",
    "\n",
    "prior=rand(gp,x_path, 10)  "
   ]
  },
  {
   "cell_type": "markdown",
   "metadata": {},
   "source": [
    "Once we have some data we can then update the GP to give the posterior distribution, and again using the `rand` function, we can sample from the GP."
   ]
  },
  {
   "cell_type": "code",
   "execution_count": null,
   "metadata": {
    "collapsed": true
   },
   "outputs": [],
   "source": [
    "# Training data\n",
    "x=[-4.0,-3.0,-1.0,0.0,2.0];\n",
    "y=[-2.0,0.0,1.0,2.0,-1.0];\n",
    "\n",
    "# Fit data to GP object\n",
    "GaussianProcesses.fit!(gp, x, y)\n",
    "post=rand(gp,x_path, 10)"
   ]
  }
 ],
 "metadata": {
  "kernelspec": {
   "display_name": "Julia 0.5.0",
   "language": "julia",
   "name": "julia-0.5"
  },
  "language_info": {
   "file_extension": ".jl",
   "mimetype": "application/julia",
   "name": "julia",
   "version": "0.5.0"
  }
 },
 "nbformat": 4,
 "nbformat_minor": 2
}
