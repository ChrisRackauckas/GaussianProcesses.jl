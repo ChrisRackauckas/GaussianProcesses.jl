{
 "cells": [
  {
   "cell_type": "markdown",
   "metadata": {},
   "source": [
    "# Simple GP Regression "
   ]
  },
  {
   "cell_type": "markdown",
   "metadata": {},
   "source": [
    "Gaussian processes are a powerful tool for nonlinear regression models. \n",
    "\n",
    "Assume that we have **predictor** variables $\\mathbf{X} = \\{\\mathbf{x_i}\\}_{i=1}^N \\in \\mathbb{R}^d$ and **response** variables $\\mathbf{y}=\\{y_i \\in \\mathbb{R}\\}_{i=1}^N$.\n",
    "\n",
    "The response variables $\\mathbf{y}$ are assumed to dependent on the predictors $\\mathbf{X}$,\n",
    "\n",
    "\\begin{equation}\n",
    "y_i \\sim \\mathcal{N}(f(\\mathbf{x}_i),\\sigma^2), \\ i=1,\\ldots,n,  \n",
    "\\end{equation}\n",
    "\n",
    "where $f$ is a mapping function. Treating $f$ as a random function, we assume that the distribution over $f$ is a **Gaussian process**,\n",
    "$$\n",
    "f \\sim \\mathcal{GP}(m(\\mathbf{x}),k(\\mathbf{x},\\mathbf{x}')),\n",
    "$$\n",
    "where $m(\\cdot)$ and $k(\\cdot,\\cdot)$ are the mean and kernel functions respectively."
   ]
  },
  {
   "cell_type": "markdown",
   "metadata": {},
   "source": [
    "## 1D regression example"
   ]
  },
  {
   "cell_type": "markdown",
   "metadata": {},
   "source": [
    "We start by simulating some data"
   ]
  },
  {
   "cell_type": "code",
   "execution_count": 13,
   "metadata": {},
   "outputs": [],
   "source": [
    "using PyPlot, GaussianProcesses\n",
    "\n",
    "srand(13579)\n",
    "# Training data\n",
    "n=10;                          #number of training points\n",
    "x = 2π * rand(n);              #predictors\n",
    "y = sin(x) + 0.05*randn(n);    #regressors"
   ]
  },
  {
   "cell_type": "markdown",
   "metadata": {},
   "source": [
    "The first step in modelling with Gaussian Processes is to choose mean functions and kernels which describe the process. GaussianProcesses can be optionally used with a plotting package. Currently the packages [Gadfly](https://github.com/dcjones/Gadfly.jl) and [PyPlot](https://github.com/stevengj/PyPlot.jl) are supported.\n",
    "\n",
    "**Note** that all hyperparameters for the **mean** and **kernel** functions and $\\sigma$ are given on the log scale. This is true for all strictly positive hyperparameters. Gaussian Processes are represented by objects of type 'GP' and constructed from observation data, a mean function and kernel, and optionally the amount of observation noise."
   ]
  },
  {
   "cell_type": "code",
   "execution_count": 14,
   "metadata": {},
   "outputs": [
    {
     "data": {
      "text/plain": [
       "GP Exact object:\n",
       "  Dim = 1\n",
       "  Number of observations = 10\n",
       "  Mean function:\n",
       "    Type: GaussianProcesses.MeanZero, Params: Float64[]\n",
       "  Kernel:\n",
       "    Type: GaussianProcesses.SEIso, Params: [0.0,0.0]\n",
       "  Input observations = \n",
       "[5.66072 1.67222 … 6.08978 3.39451]\n",
       "  Output observations = [-0.505287,1.02312,0.616955,-0.777658,-0.875402,0.92976,-1.04525,-0.00543704,-0.301759,-0.364661]\n",
       "  Variance of observation noise = 0.1353352832366127\n",
       "  Marginal Log-Likelihood = -6.719"
      ]
     },
     "execution_count": 14,
     "metadata": {},
     "output_type": "execute_result"
    }
   ],
   "source": [
    "#Select mean and covariance function\n",
    "mZero = MeanZero()                   #Zero mean function\n",
    "kern = SE(0.0,0.0)                   #Sqaured exponential kernel (note that hyperparameters are on the log scale)\n",
    "\n",
    "logObsNoise = -1.0                        # log standard deviation of observation noise (this is optional)\n",
    "gp = GP(x,y,mZero,kern,logObsNoise)       #Fit the GP"
   ]
  },
  {
   "cell_type": "markdown",
   "metadata": {},
   "source": [
    "Once we've fit the `GP` function to the data, we can calculate the **predicted mean** and **variance** of of the function at unobserved points $\\{\\mathbf{x}^*,y^*\\}$, conditional on the observed data $\\mathcal{D}=\\{\\mathbf{y},\\mathbf{X}\\}$. This is done with the `predict_y` function.\n",
    "\n",
    "The `predict_y` function returns the mean vector $\\mu(\\mathbf{x}^*)$ and covariance matrix (variance vector if `full_cov=false`) $\\Sigma(\\mathbf{x}^*,\\mathbf{x}^{*^\\top})$ of the predictive distribution,\n",
    "\\begin{equation}\n",
    "    y^*|\\mathbf{x^*},\\mathcal{D} \\sim \\mathcal{N}(\\mu(\\mathbf{x}^*),\\Sigma(\\mathbf{x}^*,\\mathbf{x}^{*^\\top})+\\sigma^2\\mathbf{I}),\n",
    "\\end{equation}\n",
    "where \n",
    "\\begin{align}\n",
    "\\mu(\\mathbf{x}^*) &= k(\\mathbf{x}^*,\\mathbf{X})(k(\\mathbf{X}, \\mathbf{X}) + \\sigma_n^2 \\mathbf{I})^{-1}\\mathbf{y} \\\\ \\Sigma(\\mathbf{x}^*,\\mathbf{x}^{*'}) &= k(\\mathbf{x}^*,\\mathbf{x}^*) -k(\\mathbf{x}^*,\\mathbf{X})(k(\\mathbf{X}, \\mathbf{X})+ \\sigma_n^2 \\mathbf{I})^{-1} k(\\mathbf{X},\\mathbf{x}^*).\n",
    "\\end{align}\n",
    "\n",
    "**Note** you can use the `predict_f` function to predict the latent function $\\mathbf{f}^*$."
   ]
  },
  {
   "cell_type": "code",
   "execution_count": 15,
   "metadata": {},
   "outputs": [],
   "source": [
    "μ, σ² = predict_y(gp,linspace(0,2π,100));"
   ]
  },
  {
   "cell_type": "markdown",
   "metadata": {},
   "source": [
    "The predict function is implicitly used when plotting the GP. Plotting is straightforward to apply, but the display will depend on the package loaded at the start of the session (e.g. PyPlot or Gadfly). Note that, at present, the plotting package should be loaded before `GaussianProcesses`. The plot function outputs the predicted mean (blue line) and the uncertainty in the function is given by the confidence bands, which are set to 95% by default."
   ]
  },
  {
   "cell_type": "code",
   "execution_count": 16,
   "metadata": {},
   "outputs": [
    {
     "ename": "LoadError",
     "evalue": "PyError (:PyObject_Call) <type 'exceptions.TypeError'>\nTypeError('float() argument must be a string or a number',)\n  File \"/usr/local/lib/python2.7/dist-packages/matplotlib/pyplot.py\", line 3161, in plot\n    ret = ax.plot(*args, **kwargs)\n  File \"/usr/local/lib/python2.7/dist-packages/matplotlib/__init__.py\", line 1819, in inner\n    return func(ax, *args, **kwargs)\n  File \"/usr/local/lib/python2.7/dist-packages/matplotlib/axes/_axes.py\", line 1383, in plot\n    self.add_line(line)\n  File \"/usr/local/lib/python2.7/dist-packages/matplotlib/axes/_base.py\", line 1703, in add_line\n    self._update_line_limits(line)\n  File \"/usr/local/lib/python2.7/dist-packages/matplotlib/axes/_base.py\", line 1725, in _update_line_limits\n    path = line.get_path()\n  File \"/usr/local/lib/python2.7/dist-packages/matplotlib/lines.py\", line 938, in get_path\n    self.recache()\n  File \"/usr/local/lib/python2.7/dist-packages/matplotlib/lines.py\", line 634, in recache\n    y = np.asarray(yconv, np.float_)\n  File \"/usr/local/lib/python2.7/dist-packages/numpy/core/numeric.py\", line 531, in asarray\n    return array(a, dtype, copy=False, order=order)\n",
     "output_type": "error",
     "traceback": [
      "PyError (:PyObject_Call) <type 'exceptions.TypeError'>\nTypeError('float() argument must be a string or a number',)\n  File \"/usr/local/lib/python2.7/dist-packages/matplotlib/pyplot.py\", line 3161, in plot\n    ret = ax.plot(*args, **kwargs)\n  File \"/usr/local/lib/python2.7/dist-packages/matplotlib/__init__.py\", line 1819, in inner\n    return func(ax, *args, **kwargs)\n  File \"/usr/local/lib/python2.7/dist-packages/matplotlib/axes/_axes.py\", line 1383, in plot\n    self.add_line(line)\n  File \"/usr/local/lib/python2.7/dist-packages/matplotlib/axes/_base.py\", line 1703, in add_line\n    self._update_line_limits(line)\n  File \"/usr/local/lib/python2.7/dist-packages/matplotlib/axes/_base.py\", line 1725, in _update_line_limits\n    path = line.get_path()\n  File \"/usr/local/lib/python2.7/dist-packages/matplotlib/lines.py\", line 938, in get_path\n    self.recache()\n  File \"/usr/local/lib/python2.7/dist-packages/matplotlib/lines.py\", line 634, in recache\n    y = np.asarray(yconv, np.float_)\n  File \"/usr/local/lib/python2.7/dist-packages/numpy/core/numeric.py\", line 531, in asarray\n    return array(a, dtype, copy=False, order=order)\n",
      "",
      " in pyerr_check at /home/nemeth/.julia/v0.5/PyCall/src/exception.jl:56 [inlined]",
      " in pyerr_check at /home/nemeth/.julia/v0.5/PyCall/src/exception.jl:61 [inlined]",
      " in macro expansion at /home/nemeth/.julia/v0.5/PyCall/src/exception.jl:81 [inlined]",
      " in #_pycall#66(::Array{Any,1}, ::Function, ::PyCall.PyObject, ::GaussianProcesses.GPE, ::Vararg{GaussianProcesses.GPE,N}) at /home/nemeth/.julia/v0.5/PyCall/src/PyCall.jl:596",
      " in _pycall(::PyCall.PyObject, ::GaussianProcesses.GPE, ::Vararg{GaussianProcesses.GPE,N}) at /home/nemeth/.julia/v0.5/PyCall/src/PyCall.jl:584",
      " in #pycall#70(::Array{Any,1}, ::Function, ::PyCall.PyObject, ::Type{PyCall.PyAny}, ::GaussianProcesses.GPE, ::Vararg{GaussianProcesses.GPE,N}) at /home/nemeth/.julia/v0.5/PyCall/src/PyCall.jl:618",
      " in pycall(::PyCall.PyObject, ::Type{PyCall.PyAny}, ::GaussianProcesses.GPE, ::Vararg{GaussianProcesses.GPE,N}) at /home/nemeth/.julia/v0.5/PyCall/src/PyCall.jl:618",
      " in #plot#85(::Array{Any,1}, ::Function, ::GaussianProcesses.GPE, ::Vararg{GaussianProcesses.GPE,N}) at /home/nemeth/.julia/v0.5/PyPlot/src/PyPlot.jl:172",
      " in plot(::GaussianProcesses.GPE) at /home/nemeth/.julia/v0.5/PyPlot/src/PyPlot.jl:169"
     ]
    }
   ],
   "source": [
    "plot(gp)                          #Plot the GP"
   ]
  },
  {
   "cell_type": "markdown",
   "metadata": {},
   "source": [
    "The hyperparameters are optimized using the [Optim](https://github.com/JuliaOpt/Optim.jl) package. This offers users a range of optimization algorithms which can be applied to estimate the hyperparameters using type II maximum likelihood estimation. Gradients are available for all mean and kernel functions used in the package and therefore it is recommended that the user utilizes gradient based optimization techniques. As a default, the `optimize!` function uses the `Conjugate Gradients` solver, however, alternative solvers can be applied. "
   ]
  },
  {
   "cell_type": "code",
   "execution_count": 17,
   "metadata": {},
   "outputs": [
    {
     "data": {
      "text/plain": [
       "Results of Optimization Algorithm\n",
       " * Algorithm: BFGS\n",
       " * Starting Point: [-1.0,0.0,0.0]\n",
       " * Minimizer: [-2.681987357828038,0.434215173836849, ...]\n",
       " * Minimum: -4.902989e-01\n",
       " * Iterations: 9\n",
       " * Convergence: true\n",
       "   * |x - x'| < 1.0e-32: false\n",
       "   * |f(x) - f(x')| / |f(x)| < 1.0e-32: false\n",
       "   * |g(x)| < 1.0e-08: true\n",
       "   * f(x) > f(x'): true\n",
       "   * Reached Maximum Number of Iterations: false\n",
       " * Objective Function Calls: 40\n",
       " * Gradient Calls: 40"
      ]
     },
     "execution_count": 17,
     "metadata": {},
     "output_type": "execute_result"
    }
   ],
   "source": [
    "optimize!(gp; method=Optim.BFGS())   #Optimise the hyperparameters"
   ]
  },
  {
   "cell_type": "code",
   "execution_count": 18,
   "metadata": {},
   "outputs": [
    {
     "ename": "LoadError",
     "evalue": "PyError (:PyObject_Call) <type 'exceptions.TypeError'>\nTypeError('float() argument must be a string or a number',)\n  File \"/usr/local/lib/python2.7/dist-packages/matplotlib/pyplot.py\", line 3161, in plot\n    ret = ax.plot(*args, **kwargs)\n  File \"/usr/local/lib/python2.7/dist-packages/matplotlib/__init__.py\", line 1819, in inner\n    return func(ax, *args, **kwargs)\n  File \"/usr/local/lib/python2.7/dist-packages/matplotlib/axes/_axes.py\", line 1383, in plot\n    self.add_line(line)\n  File \"/usr/local/lib/python2.7/dist-packages/matplotlib/axes/_base.py\", line 1703, in add_line\n    self._update_line_limits(line)\n  File \"/usr/local/lib/python2.7/dist-packages/matplotlib/axes/_base.py\", line 1725, in _update_line_limits\n    path = line.get_path()\n  File \"/usr/local/lib/python2.7/dist-packages/matplotlib/lines.py\", line 938, in get_path\n    self.recache()\n  File \"/usr/local/lib/python2.7/dist-packages/matplotlib/lines.py\", line 634, in recache\n    y = np.asarray(yconv, np.float_)\n  File \"/usr/local/lib/python2.7/dist-packages/numpy/core/numeric.py\", line 531, in asarray\n    return array(a, dtype, copy=False, order=order)\n",
     "output_type": "error",
     "traceback": [
      "PyError (:PyObject_Call) <type 'exceptions.TypeError'>\nTypeError('float() argument must be a string or a number',)\n  File \"/usr/local/lib/python2.7/dist-packages/matplotlib/pyplot.py\", line 3161, in plot\n    ret = ax.plot(*args, **kwargs)\n  File \"/usr/local/lib/python2.7/dist-packages/matplotlib/__init__.py\", line 1819, in inner\n    return func(ax, *args, **kwargs)\n  File \"/usr/local/lib/python2.7/dist-packages/matplotlib/axes/_axes.py\", line 1383, in plot\n    self.add_line(line)\n  File \"/usr/local/lib/python2.7/dist-packages/matplotlib/axes/_base.py\", line 1703, in add_line\n    self._update_line_limits(line)\n  File \"/usr/local/lib/python2.7/dist-packages/matplotlib/axes/_base.py\", line 1725, in _update_line_limits\n    path = line.get_path()\n  File \"/usr/local/lib/python2.7/dist-packages/matplotlib/lines.py\", line 938, in get_path\n    self.recache()\n  File \"/usr/local/lib/python2.7/dist-packages/matplotlib/lines.py\", line 634, in recache\n    y = np.asarray(yconv, np.float_)\n  File \"/usr/local/lib/python2.7/dist-packages/numpy/core/numeric.py\", line 531, in asarray\n    return array(a, dtype, copy=False, order=order)\n",
      "",
      " in pyerr_check at /home/nemeth/.julia/v0.5/PyCall/src/exception.jl:56 [inlined]",
      " in pyerr_check at /home/nemeth/.julia/v0.5/PyCall/src/exception.jl:61 [inlined]",
      " in macro expansion at /home/nemeth/.julia/v0.5/PyCall/src/exception.jl:81 [inlined]",
      " in #_pycall#66(::Array{Any,1}, ::Function, ::PyCall.PyObject, ::GaussianProcesses.GPE, ::Vararg{GaussianProcesses.GPE,N}) at /home/nemeth/.julia/v0.5/PyCall/src/PyCall.jl:596",
      " in _pycall(::PyCall.PyObject, ::GaussianProcesses.GPE, ::Vararg{GaussianProcesses.GPE,N}) at /home/nemeth/.julia/v0.5/PyCall/src/PyCall.jl:584",
      " in #pycall#70(::Array{Any,1}, ::Function, ::PyCall.PyObject, ::Type{PyCall.PyAny}, ::GaussianProcesses.GPE, ::Vararg{GaussianProcesses.GPE,N}) at /home/nemeth/.julia/v0.5/PyCall/src/PyCall.jl:618",
      " in pycall(::PyCall.PyObject, ::Type{PyCall.PyAny}, ::GaussianProcesses.GPE, ::Vararg{GaussianProcesses.GPE,N}) at /home/nemeth/.julia/v0.5/PyCall/src/PyCall.jl:618",
      " in #plot#85(::Array{Any,1}, ::Function, ::GaussianProcesses.GPE, ::Vararg{GaussianProcesses.GPE,N}) at /home/nemeth/.julia/v0.5/PyPlot/src/PyPlot.jl:172",
      " in plot(::GaussianProcesses.GPE) at /home/nemeth/.julia/v0.5/PyPlot/src/PyPlot.jl:169"
     ]
    }
   ],
   "source": [
    "plot(gp)   #Plot the GP after the hyperparameters have been optimised "
   ]
  },
  {
   "cell_type": "markdown",
   "metadata": {},
   "source": [
    "## Multi-dimensional regression"
   ]
  },
  {
   "cell_type": "markdown",
   "metadata": {},
   "source": [
    "The regression example above can be easily extended to higher dimensions. For the purpose of visualisation, and without loss of generality, we consider a 2 dimensional regression example."
   ]
  },
  {
   "cell_type": "code",
   "execution_count": 19,
   "metadata": {},
   "outputs": [],
   "source": [
    "#Training data\n",
    "d, n = 2, 50;         #Dimension and number of observations\n",
    "x = 2π * rand(d, n);                               #Predictors\n",
    "y = vec(sin(x[1,:]).*sin(x[2,:])) + 0.05*rand(n);  #Responses"
   ]
  },
  {
   "cell_type": "markdown",
   "metadata": {},
   "source": [
    "For problems of dimension>1 we can use isotropic (`Iso`) kernels or automatic relevance determination (`ARD`) kernels. For `Iso` kernels, the length scale parameter $\\ell$ is the same for all dimensions. For `ARD` kernels, each dimension has different length scale parameter.\n",
    "\n",
    "The `Iso` and `ARD` kernels are implemented automatically by replacing the single length scale parameter with a vector of parameters. For example, below we use the Matern 5/2 `ARD` kernel, if we wanted to use the `Iso` alternative then we would set the kernel as `kern=Mat(5/2,0.0,0.0)`."
   ]
  },
  {
   "cell_type": "markdown",
   "metadata": {},
   "source": [
    "In this example we use a composite kernel represented as the sum of a Matern 5/2 ARD kernel and a Squared Exponential isotropic kernel. This is easily implemented using the `+` symbol, or in the case of a product kernel, using the `*` symbol (i.e. `kern = Mat(5/2,[0.0,0.0],0.0) * SE(0.0,0.0)`)."
   ]
  },
  {
   "cell_type": "code",
   "execution_count": 20,
   "metadata": {},
   "outputs": [
    {
     "data": {
      "text/plain": [
       "Type: GaussianProcesses.SumKernel\n",
       "  Type: GaussianProcesses.Mat52Ard, Params: [-0.0,-0.0,0.0]\n",
       "  Type: GaussianProcesses.SEIso, Params: [0.0,0.0]\n"
      ]
     },
     "execution_count": 20,
     "metadata": {},
     "output_type": "execute_result"
    }
   ],
   "source": [
    "mZero = MeanZero()                             # Zero mean function\n",
    "kern = Mat(5/2,[0.0,0.0],0.0) + SE(0.0,0.0)    # Sum kernel with Matern 5/2 ARD kernel \n",
    "                                               # with parameters [log(ℓ₁), log(ℓ₂)] = [0,0] and log(σ) = 0\n",
    "                                               # and Squared Exponential Iso kernel with\n",
    "                                               # parameters log(ℓ) = 0 and log(σ) = 0"
   ]
  },
  {
   "cell_type": "markdown",
   "metadata": {},
   "source": [
    "Fit the Gaussian process to the data using the prespecfied mean and covariance functions."
   ]
  },
  {
   "cell_type": "code",
   "execution_count": 21,
   "metadata": {},
   "outputs": [
    {
     "data": {
      "text/plain": [
       "GP Exact object:\n",
       "  Dim = 2\n",
       "  Number of observations = 50\n",
       "  Mean function:\n",
       "    Type: GaussianProcesses.MeanZero, Params: Float64[]\n",
       "  Kernel:\n",
       "    Type: GaussianProcesses.SumKernel\n",
       "      Type: GaussianProcesses.Mat52Ard, Params: [-0.0,-0.0,0.0]\n",
       "      Type: GaussianProcesses.SEIso, Params: [0.0,0.0]\n",
       "  Input observations = \n",
       "[1.43935 0.515919 … 0.487943 2.38029; 4.21509 3.59947 … 0.699132 4.09243]\n",
       "  Output observations = [-0.850956,-0.173897,0.555086,-0.579203,-0.116111,-0.304235,-0.192372,-0.55408,0.649668,-0.226597  …  -0.874219,-0.136116,0.485536,0.571545,-0.387655,0.200481,-0.33697,0.395318,0.340145,-0.545092]\n",
       "  Variance of observation noise = 0.01831563888873418\n",
       "  Marginal Log-Likelihood = -24.334"
      ]
     },
     "execution_count": 21,
     "metadata": {},
     "output_type": "execute_result"
    }
   ],
   "source": [
    "gp = GP(x,y,mZero,kern,-2.0)          # Fit the GP"
   ]
  },
  {
   "cell_type": "markdown",
   "metadata": {},
   "source": [
    "Using the [Optim](https://github.com/JuliaOpt/Optim.jl) package we have the option to choose from a range of optimize functions including conjugate gradients. It is also possible to fix the hyperparameters in either the mean function, kernel function or observation noise, by settting them to false in `optimize!` (e.g. `optimize!(...,mean=false)`)."
   ]
  },
  {
   "cell_type": "code",
   "execution_count": 22,
   "metadata": {},
   "outputs": [
    {
     "data": {
      "text/plain": [
       "Results of Optimization Algorithm\n",
       " * Algorithm: L-BFGS\n",
       " * Starting Point: [-2.0,-0.0,-0.0,0.0,0.0,0.0]\n",
       " * Minimizer: [-4.398843024597842,-0.5062449599019844, ...]\n",
       " * Minimum: -5.401611e+01\n",
       " * Iterations: 29\n",
       " * Convergence: true\n",
       "   * |x - x'| < 1.0e-32: false\n",
       "   * |f(x) - f(x')| / |f(x)| < 1.0e-32: false\n",
       "   * |g(x)| < 1.0e-08: true\n",
       "   * f(x) > f(x'): true\n",
       "   * Reached Maximum Number of Iterations: false\n",
       " * Objective Function Calls: 120\n",
       " * Gradient Calls: 120"
      ]
     },
     "execution_count": 22,
     "metadata": {},
     "output_type": "execute_result"
    }
   ],
   "source": [
    "optimize!(gp)                         # Optimize the hyperparameters"
   ]
  },
  {
   "cell_type": "code",
   "execution_count": 23,
   "metadata": {},
   "outputs": [
    {
     "ename": "LoadError",
     "evalue": "PyError (:PyObject_Call) <type 'exceptions.AttributeError'>\nAttributeError(u'Unknown property clim',)\n  File \"/usr/local/lib/python2.7/dist-packages/matplotlib/pyplot.py\", line 3161, in plot\n    ret = ax.plot(*args, **kwargs)\n  File \"/usr/local/lib/python2.7/dist-packages/matplotlib/__init__.py\", line 1819, in inner\n    return func(ax, *args, **kwargs)\n  File \"/usr/local/lib/python2.7/dist-packages/matplotlib/axes/_axes.py\", line 1382, in plot\n    for line in self._get_lines(*args, **kwargs):\n  File \"/usr/local/lib/python2.7/dist-packages/matplotlib/axes/_base.py\", line 381, in _grab_next_args\n    for seg in self._plot_args(remaining, kwargs):\n  File \"/usr/local/lib/python2.7/dist-packages/matplotlib/axes/_base.py\", line 369, in _plot_args\n    seg = func(x[:, j % ncx], y[:, j % ncy], kw, kwargs)\n  File \"/usr/local/lib/python2.7/dist-packages/matplotlib/axes/_base.py\", line 276, in _makeline\n    seg = mlines.Line2D(x, y, **kw)\n  File \"/usr/local/lib/python2.7/dist-packages/matplotlib/lines.py\", line 380, in __init__\n    self.update(kwargs)\n  File \"/usr/local/lib/python2.7/dist-packages/matplotlib/artist.py\", line 859, in update\n    raise AttributeError('Unknown property %s' % k)\n",
     "output_type": "error",
     "traceback": [
      "PyError (:PyObject_Call) <type 'exceptions.AttributeError'>\nAttributeError(u'Unknown property clim',)\n  File \"/usr/local/lib/python2.7/dist-packages/matplotlib/pyplot.py\", line 3161, in plot\n    ret = ax.plot(*args, **kwargs)\n  File \"/usr/local/lib/python2.7/dist-packages/matplotlib/__init__.py\", line 1819, in inner\n    return func(ax, *args, **kwargs)\n  File \"/usr/local/lib/python2.7/dist-packages/matplotlib/axes/_axes.py\", line 1382, in plot\n    for line in self._get_lines(*args, **kwargs):\n  File \"/usr/local/lib/python2.7/dist-packages/matplotlib/axes/_base.py\", line 381, in _grab_next_args\n    for seg in self._plot_args(remaining, kwargs):\n  File \"/usr/local/lib/python2.7/dist-packages/matplotlib/axes/_base.py\", line 369, in _plot_args\n    seg = func(x[:, j % ncx], y[:, j % ncy], kw, kwargs)\n  File \"/usr/local/lib/python2.7/dist-packages/matplotlib/axes/_base.py\", line 276, in _makeline\n    seg = mlines.Line2D(x, y, **kw)\n  File \"/usr/local/lib/python2.7/dist-packages/matplotlib/lines.py\", line 380, in __init__\n    self.update(kwargs)\n  File \"/usr/local/lib/python2.7/dist-packages/matplotlib/artist.py\", line 859, in update\n    raise AttributeError('Unknown property %s' % k)\n",
      "",
      " in pyerr_check at /home/nemeth/.julia/v0.5/PyCall/src/exception.jl:56 [inlined]",
      " in pyerr_check at /home/nemeth/.julia/v0.5/PyCall/src/exception.jl:61 [inlined]",
      " in macro expansion at /home/nemeth/.julia/v0.5/PyCall/src/exception.jl:81 [inlined]",
      " in #_pycall#66(::Array{Any,1}, ::Function, ::PyCall.PyObject, ::GaussianProcesses.GPE, ::Vararg{GaussianProcesses.GPE,N}) at /home/nemeth/.julia/v0.5/PyCall/src/PyCall.jl:601",
      " in (::PyCall.#kw##_pycall)(::Array{Any,1}, ::PyCall.#_pycall, ::PyCall.PyObject, ::GaussianProcesses.GPE, ::Vararg{GaussianProcesses.GPE,N}) at ./<missing>:0",
      " in #pycall#70(::Array{Any,1}, ::Function, ::PyCall.PyObject, ::Type{PyCall.PyAny}, ::GaussianProcesses.GPE, ::Vararg{GaussianProcesses.GPE,N}) at /home/nemeth/.julia/v0.5/PyCall/src/PyCall.jl:618",
      " in (::PyCall.#kw##pycall)(::Array{Any,1}, ::PyCall.#pycall, ::PyCall.PyObject, ::Type{PyCall.PyAny}, ::GaussianProcesses.GPE, ::Vararg{GaussianProcesses.GPE,N}) at ./<missing>:0",
      " in #plot#85(::Array{Any,1}, ::Function, ::GaussianProcesses.GPE, ::Vararg{GaussianProcesses.GPE,N}) at /home/nemeth/.julia/v0.5/PyPlot/src/PyPlot.jl:172",
      " in (::PyPlot.#kw##plot)(::Array{Any,1}, ::PyPlot.#plot, ::GaussianProcesses.GPE) at ./<missing>:0"
     ]
    }
   ],
   "source": [
    "plot(gp; clim=(-10.0, 10.0,-10.0,10.0)) #Plot the GP over range clim"
   ]
  }
 ],
 "metadata": {
  "kernelspec": {
   "display_name": "Julia 0.5.0",
   "language": "julia",
   "name": "julia-0.5"
  },
  "language_info": {
   "file_extension": ".jl",
   "mimetype": "application/julia",
   "name": "julia",
   "version": "0.5.0"
  }
 },
 "nbformat": 4,
 "nbformat_minor": 2
}
