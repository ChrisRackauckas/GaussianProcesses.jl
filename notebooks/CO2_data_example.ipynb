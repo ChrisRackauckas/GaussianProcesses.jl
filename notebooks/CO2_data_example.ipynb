{
 "cells": [
  {
   "cell_type": "markdown",
   "metadata": {},
   "source": [
    "This example fits a GP regression model to the Mauna Loa CO2 data set. This data set is regularly updated and can be found [here](co2now.org/images/stories/data/co2-mlo-monthly-noaa-esrl.xls)\n",
    "\n",
    "This example follows from Chapter 5 of Gaussian Processes for Machine Learning, Rasmussen and Williams (2006)"
   ]
  },
  {
   "cell_type": "code",
   "execution_count": null,
   "metadata": {
    "collapsed": true
   },
   "outputs": [],
   "source": [
    "using Gadfly, GaussianProcesses\n",
    "\n",
    "data = readcsv(\"CO2_data.csv\")\n",
    "\n",
    "year = data[:,1]; co2 = data[:,2];\n",
    "x = year[year.<2004]; y = co2[year.<2004];\n",
    "xpred = year[year.>=2004]; ypred = co2[year.>=2004];\n",
    "\n",
    "mConst = MeanConst(mean(y))       #Fit the constant mean function\n",
    "\n",
    "#Kernel is represented as a sum of kernels\n",
    "kernel = SE(4.0,4.0) + Periodic(0.0,1.0,0.0)*SE(4.0,0.0) + RQ(0.0,0.0,-1.0) + SE(-2.0,-2.0)\n",
    "\n",
    "gp = GP(x,y,mConst,kernel,-2.0)   #Fit the GP\n",
    "\n",
    "plot(gp,clim=(2004.0,2024.0)) #Gadfly can take a while to load"
   ]
  }
 ],
 "metadata": {
  "kernelspec": {
   "display_name": "Julia 0.5.0",
   "language": "julia",
   "name": "julia-0.5"
  },
  "language_info": {
   "file_extension": ".jl",
   "mimetype": "application/julia",
   "name": "julia",
   "version": "0.5.0"
  }
 },
 "nbformat": 4,
 "nbformat_minor": 2
}
