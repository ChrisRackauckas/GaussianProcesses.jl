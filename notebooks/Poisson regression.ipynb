{
 "cells": [
  {
   "cell_type": "markdown",
   "metadata": {},
   "source": [
    "# Poisson Regression\n",
    "\n",
    "Gaussian process models can be incredibly flexbile for modelling non-Gaussian data. One such example is in the case of count data $\\mathbf{y}$, which can be modelled with a __Poisson model__ with a latent Gaussian process.\n",
    "$$\n",
    "\\mathbf{y} \\ | \\ \\mathbf{f} \\sim \\prod_{i=1}^{n} \\frac{\\lambda_i^{y_i}\\exp\\{-\\lambda_i\\}}{y_i!},\n",
    "$$\n",
    "where $\\lambda_i=\\exp(f_i)$ and $f_i$ is the latent Gaussian process.\n"
   ]
  },
  {
   "cell_type": "code",
   "execution_count": 1,
   "metadata": {
    "scrolled": false
   },
   "outputs": [
    {
     "data": {
      "image/png": "[encoded data removed]"
     },
     "execution_count": 1,
     "metadata": {},
     "output_type": "execute_result"
    }
   ],
   "source": [
    "#Load the package\n",
    "using GaussianProcesses, Random, Distributions\n",
    "\n",
    "#Simulate the data\n",
    "Random.seed!(203617)\n",
    "n = 20\n",
    "X = collect(range(-3,stop=3,length=n));\n",
    "f = 2*cos.(2*X);\n",
    "Y = [rand(Poisson(exp.(f[i]))) for i in 1:n];\n",
    "\n",
    "#Plot the data using the Plots.jl package with the GR backend\n",
    "using Plots\n",
    "gr()\n",
    "scatter(X,Y,leg=false, fmt=:png)"
   ]
  },
  {
   "cell_type": "code",
   "execution_count": 2,
   "metadata": {},
   "outputs": [
    {
     "data": {
      "text/plain": [
       "GP Approximate object:\n",
       "  Dim = 1\n",
       "  Number of observations = 20\n",
       "  Mean function:\n",
       "    Type: MeanZero, Params: Float64[]\n",
       "  Kernel:\n",
       "    Type: Mat32Iso{Float64}, Params: [0.0, 0.0]\n",
       "  Likelihood:\n",
       "    Type: PoisLik, Params: Any[]\n",
       "  Input observations = \n",
       "[-3.0 -2.68421 … 2.68421 3.0]\n",
       "  Output observations = [3, 3, 1, 0, 0, 0, 0, 0, 3, 4, 7, 3, 1, 0, 0, 1, 0, 3, 4, 4]\n",
       "  Log-posterior = -65.397"
      ]
     },
     "execution_count": 2,
     "metadata": {},
     "output_type": "execute_result"
    }
   ],
   "source": [
    "#GP set-up\n",
    "k = Matern(3/2,0.0,0.0)   # Matern 3/2 kernel\n",
    "l = PoisLik()             # Poisson likelihood\n",
    "gp = GP(X, vec(Y), MeanZero(), k, l)"
   ]
  },
  {
   "cell_type": "code",
   "execution_count": 3,
   "metadata": {},
   "outputs": [
    {
     "name": "stdout",
     "output_type": "stream",
     "text": [
      "Number of iterations = 10000, Thinning = 1, Burn-in = 1 \n",
      "Step size = 0.100000, Average number of leapfrog steps = 10.029000 \n",
      "Number of function calls: 100291\n",
      "Acceptance rate: 0.801400 \n",
      " 11.402305 seconds (26.44 M allocations: 2.110 GiB, 6.17% gc time)\n"
     ]
    }
   ],
   "source": [
    "set_priors!(gp.kernel,[Normal(-2.0,4.0),Normal(-2.0,4.0)])\n",
    "@time samples = mcmc(gp; nIter=10000);"
   ]
  },
  {
   "cell_type": "code",
   "execution_count": 4,
   "metadata": {},
   "outputs": [
    {
     "ename": "ErrorException",
     "evalue": "Cannot convert Tuple{Array{Float64,1},Array{Float64,1}} to series data for plotting",
     "output_type": "error",
     "traceback": [
      "Cannot convert Tuple{Array{Float64,1},Array{Float64,1}} to series data for plotting",
      "",
      "Stacktrace:",
      " [1] error(::String) at ./error.jl:33",
      " [2] prepareSeriesData(::Tuple{Array{Float64,1},Array{Float64,1}}) at /home/nemeth/.julia/packages/Plots/h3o4c/src/series.jl:15",
      " [3] convertToAnyVector(::Tuple{Array{Float64,1},Array{Float64,1}}, ::Dict{Symbol,Any}) at /home/nemeth/.julia/packages/Plots/h3o4c/src/series.jl:26",
      " [4] process_ribbon(::Tuple{Array{Float64,1},Array{Float64,1}}, ::Dict{Symbol,Any}) at /home/nemeth/.julia/packages/Plots/h3o4c/src/series.jl:62",
      " [5] macro expansion at /home/nemeth/.julia/packages/Plots/h3o4c/src/series.jl:139 [inlined]",
      " [6] apply_recipe(::Dict{Symbol,Any}, ::Type{Plots.SliceIt}, ::StepRangeLen{Float64,Base.TwicePrecision{Float64},Base.TwicePrecision{Float64}}, ::Array{Float64,1}, ::Nothing) at /home/nemeth/.julia/packages/RecipesBase/zBoFG/src/RecipesBase.jl:275",
      " [7] _process_userrecipes(::Plots.Plot{Plots.GRBackend}, ::Dict{Symbol,Any}, ::Tuple{StepRangeLen{Float64,Base.TwicePrecision{Float64},Base.TwicePrecision{Float64}},Array{Float64,1}}) at /home/nemeth/.julia/packages/Plots/h3o4c/src/pipeline.jl:83",
      " [8] macro expansion at ./logging.jl:307 [inlined]",
      " [9] _plot!(::Plots.Plot{Plots.GRBackend}, ::Dict{Symbol,Any}, ::Tuple{StepRangeLen{Float64,Base.TwicePrecision{Float64},Base.TwicePrecision{Float64}},Array{Float64,1}}) at /home/nemeth/.julia/packages/Plots/h3o4c/src/plot.jl:171",
      " [10] #plot#133(::Base.Iterators.Pairs{Symbol,Any,NTuple{4,Symbol},NamedTuple{(:ribbon, :leg, :fmt, :label),Tuple{Tuple{Array{Float64,1},Array{Float64,1}},Bool,Symbol,String}}}, ::Function, ::StepRangeLen{Float64,Base.TwicePrecision{Float64},Base.TwicePrecision{Float64}}, ::Vararg{Any,N} where N) at /home/nemeth/.julia/packages/Plots/h3o4c/src/plot.jl:57",
      " [11] (::getfield(RecipesBase, Symbol(\"#kw##plot\")))(::NamedTuple{(:ribbon, :leg, :fmt, :label),Tuple{Tuple{Array{Float64,1},Array{Float64,1}},Bool,Symbol,String}}, ::typeof(plot), ::StepRangeLen{Float64,Base.TwicePrecision{Float64},Base.TwicePrecision{Float64}}, ::Array{Float64,1}) at ./none:0",
      " [12] top-level scope at In[4]:17"
     ]
    }
   ],
   "source": [
    "#Sample predicted values\n",
    "xtest = range(minimum(gp.x),stop=maximum(gp.x),length=50);\n",
    "ymean = [];\n",
    "fsamples = Array{Float64}(undef,size(samples,2), length(xtest));\n",
    "for i in 1:size(samples,2)\n",
    "    set_params!(gp,samples[:,i])\n",
    "    update_target!(gp)\n",
    "    push!(ymean, predict_y(gp,xtest)[1])\n",
    "    fsamples[i,:] = rand(gp, xtest)\n",
    "end\n",
    "\n",
    "#Predictive plots\n",
    "\n",
    "q10 = [quantile(fsamples[:,i], 0.1) for i in 1:length(xtest)]\n",
    "q50 = [quantile(fsamples[:,i], 0.5) for i in 1:length(xtest)]\n",
    "q90 = [quantile(fsamples[:,i], 0.9) for i in 1:length(xtest)]\n",
    "plot(xtest,exp.(q50),ribbon=(exp.(q10), exp.(q90)),leg=true, fmt=:png, label=\"quantiles\")\n",
    "plot!(xtest,mean(ymean), label=\"posterior mean\")\n",
    "xx = range(-3,stop=3,length=1000);\n",
    "f_xx = 2*cos.(2*xx);\n",
    "plot!(xx, exp.(f_xx), label=\"truth\")\n",
    "scatter!(X,Y, label=\"data\")"
   ]
  },
  {
   "cell_type": "markdown",
   "metadata": {},
   "source": [
    "### Alternatives to MCMC\n",
    "\n",
    "As an alternative to MCMC, the practioner is also able to compute the approximate posterior using variational inference. This is done through the approach described in [Opper and Archambeau](https://www.mitpressjournals.org/doi/abs/10.1162/neco.2008.08-07-592). An approximate density $$q(\\mathbf{x})=(2 \\pi)^{-N / 2}|\\mathbf{\\Sigma}|^{-\\frac{1}{2}} e^{-\\frac{1}{2}(\\mathbf{x}-\\boldsymbol{\\mu})^{\\top} \\boldsymbol{\\Sigma}^{-1}(\\mathbf{x}-\\boldsymbol{\\mu})}$$ is used to replace the true posterior.\n",
    "\n",
    "Syntactically, this can be found in a similar vein to mcmc by simply using the following statements."
   ]
  },
  {
   "cell_type": "code",
   "execution_count": 5,
   "metadata": {},
   "outputs": [
    {
     "ename": "UndefVarError",
     "evalue": "UndefVarError: vi not defined",
     "output_type": "error",
     "traceback": [
      "UndefVarError: vi not defined",
      "",
      "Stacktrace:",
      " [1] top-level scope at In[5]:1"
     ]
    }
   ],
   "source": [
    "vi(gp)"
   ]
  }
 ],
 "metadata": {
  "hide_input": false,
  "kernelspec": {
   "display_name": "Julia 1.0.0",
   "language": "julia",
   "name": "julia-1.0"
  },
  "language_info": {
   "file_extension": ".jl",
   "mimetype": "application/julia",
   "name": "julia",
   "version": "1.0.0"
  }
 },
 "nbformat": 4,
 "nbformat_minor": 2
}
