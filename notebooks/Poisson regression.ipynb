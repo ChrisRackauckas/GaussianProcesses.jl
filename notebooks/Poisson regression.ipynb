{
 "cells": [
  {
   "cell_type": "code",
   "execution_count": null,
   "metadata": {
    "collapsed": true
   },
   "outputs": [],
   "source": [
    "using Gadfly, GaussianProcesses"
   ]
  },
  {
   "cell_type": "code",
   "execution_count": null,
   "metadata": {
    "collapsed": true
   },
   "outputs": [],
   "source": [
    "srand(201216)\n",
    "n = 20\n",
    "X = linspace(-3,3,n)\n",
    "f = 2*cos(2*X)\n",
    "Y = [rand(Distributions.Poisson(exp(f[i]))) for i in 1:n]"
   ]
  },
  {
   "cell_type": "code",
   "execution_count": null,
   "metadata": {
    "collapsed": true
   },
   "outputs": [],
   "source": [
    "#plot the data\n",
    "plot(x=X,y=Y,Geom.point)"
   ]
  },
  {
   "cell_type": "code",
   "execution_count": null,
   "metadata": {
    "collapsed": true
   },
   "outputs": [],
   "source": [
    "#GP set-up\n",
    "k = Matern(3/2,0.0,0.0)   # Matern 3/2 kernel\n",
    "l = PoisLik()             # Poisson likelihood"
   ]
  },
  {
   "cell_type": "code",
   "execution_count": null,
   "metadata": {
    "collapsed": true
   },
   "outputs": [],
   "source": [
    "gp = GP(X', vec(Y), MeanZero(), k, l)"
   ]
  },
  {
   "cell_type": "code",
   "execution_count": null,
   "metadata": {
    "collapsed": true
   },
   "outputs": [],
   "source": [
    "GaussianProcesses.set_priors!(gp.k,[Distributions.Normal(-2.0,4.0),Distributions.Normal(-2.0,4.0)])"
   ]
  },
  {
   "cell_type": "code",
   "execution_count": null,
   "metadata": {
    "collapsed": true
   },
   "outputs": [],
   "source": [
    "optimize!(gp)"
   ]
  },
  {
   "cell_type": "code",
   "execution_count": null,
   "metadata": {
    "collapsed": true
   },
   "outputs": [],
   "source": [
    "samples = mcmc(gp;mcrange=Klara.BasicMCRange(nsteps=50000, thinning=10, burnin=10000))"
   ]
  },
  {
   "cell_type": "code",
   "execution_count": null,
   "metadata": {
    "collapsed": true
   },
   "outputs": [],
   "source": [
    "#Plot posterior samples\n",
    "xtest = linspace(minimum(gp.X),maximum(gp.X),50);\n",
    "ymean = [];\n",
    "fsamples = [];\n",
    "for i in 1:size(samples,2)\n",
    "    GaussianProcesses.set_params!(gp,samples[:,i])\n",
    "    GaussianProcesses.update_target!(gp)\n",
    "    push!(ymean, predict_y(gp,xtest)[1])\n",
    "    push!(fsamples,rand(gp,xtest))\n",
    "end"
   ]
  },
  {
   "cell_type": "code",
   "execution_count": null,
   "metadata": {
    "collapsed": true
   },
   "outputs": [],
   "source": [
    "#Predictive plots\n",
    "layers = []\n",
    "for ym in ymean\n",
    "    push!(layers, layer(x=xtest,y=ym,Geom.line))\n",
    "end\n",
    "\n",
    "plot(layers...,Guide.xlabel(\"X\"),Guide.ylabel(\"y\"))\n",
    "\n",
    "\n",
    "plot(layer(x=xtest,y=mean(ymean),Geom.line),\n",
    "     layer(x=X,y=Y,Geom.point))\n"
   ]
  }
 ],
 "metadata": {
  "kernelspec": {
   "display_name": "Julia 0.5.0",
   "language": "julia",
   "name": "julia-0.5"
  },
  "language_info": {
   "file_extension": ".jl",
   "mimetype": "application/julia",
   "name": "julia",
   "version": "0.5.0"
  }
 },
 "nbformat": 4,
 "nbformat_minor": 2
}
