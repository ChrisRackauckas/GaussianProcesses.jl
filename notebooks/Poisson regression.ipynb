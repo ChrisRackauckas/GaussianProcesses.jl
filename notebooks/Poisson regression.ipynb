{
 "cells": [
  {
   "cell_type": "markdown",
   "metadata": {},
   "source": [
    "# Poisson Regression\n",
    "\n",
    "Gaussian process models can be incredibly flexbile for modelling non-Gaussian data. One such example is in the case of count data $\\mathbf{y}$, which can be modelled with a __Poisson model__ with a latent Gaussian process.\n",
    "$$\n",
    "\\mathbf{y} \\ | \\ \\mathbf{f} \\sim \\prod_{i=1}^{n} \\frac{\\lambda_i^{y_i}\\exp\\{-\\lambda_i\\}}{y_i!},\n",
    "$$\n",
    "where $\\lambda_i=\\exp(f_i)$ and $f_i$ is the latent Gaussian process.\n"
   ]
  },
  {
   "cell_type": "code",
   "execution_count": null,
   "metadata": {
    "collapsed": false,
    "scrolled": false
   },
   "outputs": [],
   "source": [
    "#Load the package\n",
    "using GaussianProcesses\n",
    "\n",
    "#Simulate the data\n",
    "srand(203617)\n",
    "n = 20\n",
    "X = collect(linspace(-3,3,n));\n",
    "f = 2*cos.(2*X);\n",
    "Y = [rand(Distributions.Poisson(exp.(f[i]))) for i in 1:n];\n",
    "\n",
    "#Plot the data using the Plots.jl package with the GR backend\n",
    "using Plots\n",
    "gr()\n",
    "scatter(X,Y,leg=false, fmt=:png)"
   ]
  },
  {
   "cell_type": "code",
   "execution_count": null,
   "metadata": {
    "collapsed": false
   },
   "outputs": [],
   "source": [
    "#GP set-up\n",
    "k = Matern(3/2,0.0,0.0)   # Matern 3/2 kernel\n",
    "l = PoisLik()             # Poisson likelihood\n",
    "gp = GP(X, vec(Y), MeanZero(), k, l)"
   ]
  },
  {
   "cell_type": "code",
   "execution_count": null,
   "metadata": {
    "collapsed": false
   },
   "outputs": [],
   "source": [
    "set_priors!(gp.k,[Distributions.Normal(-2.0,4.0),Distributions.Normal(-2.0,4.0)])\n",
    "@time samples = mcmc(gp; nIter=10000);"
   ]
  },
  {
   "cell_type": "code",
   "execution_count": null,
   "metadata": {
    "collapsed": false
   },
   "outputs": [],
   "source": [
    "#Sample predicted values\n",
    "xtest = linspace(minimum(gp.X),maximum(gp.X),50);\n",
    "ymean = [];\n",
    "fsamples = Array{Float64}(size(samples,2), length(xtest));\n",
    "for i in 1:size(samples,2)\n",
    "    set_params!(gp,samples[:,i])\n",
    "    update_target!(gp)\n",
    "    push!(ymean, predict_y(gp,xtest)[1])\n",
    "    fsamples[i,:] = rand(gp, xtest)\n",
    "end\n",
    "\n",
    "#Predictive plots\n",
    "\n",
    "q10 = [quantile(fsamples[:,i], 0.1) for i in 1:length(xtest)]\n",
    "q50 = [quantile(fsamples[:,i], 0.5) for i in 1:length(xtest)]\n",
    "q90 = [quantile(fsamples[:,i], 0.9) for i in 1:length(xtest)]\n",
    "plot(xtest,exp.(q50),ribbon=(exp.(q10), exp.(q90)),leg=true, fmt=:png, label=\"quantiles\")\n",
    "plot!(xtest,mean(ymean), label=\"posterior mean\")\n",
    "xx = linspace(-3,3,1000);\n",
    "f_xx = 2*cos.(2*xx);\n",
    "plot!(xx, exp.(f_xx), label=\"truth\")\n",
    "scatter!(X,Y, label=\"data\")"
   ]
  }
 ],
 "metadata": {
  "hide_input": false,
  "kernelspec": {
   "display_name": "Julia 0.7.0",
   "language": "julia",
   "name": "julia-0.7"
  },
  "language_info": {
   "file_extension": ".jl",
   "mimetype": "application/julia",
   "name": "julia",
   "version": "0.6.0"
  }
 },
 "nbformat": 4,
 "nbformat_minor": 2
}
