{
 "cells": [
  {
   "cell_type": "markdown",
   "metadata": {},
   "source": [
    "This notebook introduces how Gaussian processes can be used fot binary classification."
   ]
  },
  {
   "cell_type": "code",
   "execution_count": null,
   "metadata": {
    "collapsed": true
   },
   "outputs": [],
   "source": [
    "using Gadfly, GaussianProcesses"
   ]
  },
  {
   "cell_type": "code",
   "execution_count": null,
   "metadata": {
    "collapsed": true
   },
   "outputs": [],
   "source": [
    "srand(112233)\n",
    "X = rand(20);\n",
    "X = sort(X);\n",
    "y = sin(10*X);\n",
    "y=convert(Vector{Bool}, y.>0);  #Data are 0-1"
   ]
  },
  {
   "cell_type": "code",
   "execution_count": null,
   "metadata": {
    "collapsed": true
   },
   "outputs": [],
   "source": [
    "#Select mean, kernel and likelihood function\n",
    "mZero = MeanZero()   #Zero mean function\n",
    "kern = SE(0.0,0.0)   #Sqaured exponential kernel (note that hyperparameters are on the log scale)\n",
    "lik = BernLik()"
   ]
  },
  {
   "cell_type": "code",
   "execution_count": null,
   "metadata": {
    "collapsed": true
   },
   "outputs": [],
   "source": [
    "gp = GP(X',vec(y),mZero,kern,lik)"
   ]
  },
  {
   "cell_type": "code",
   "execution_count": null,
   "metadata": {
    "collapsed": true
   },
   "outputs": [],
   "source": [
    "GaussianProcesses.set_priors!(gp.k,[Distributions.Normal(0.0,2.0),Distributions.Normal(0.0,2.0)])"
   ]
  },
  {
   "cell_type": "markdown",
   "metadata": {},
   "source": [
    "Find the maximum aposteriori parameter (MAP) values by maximising the log-posterior"
   ]
  },
  {
   "cell_type": "code",
   "execution_count": null,
   "metadata": {
    "collapsed": true
   },
   "outputs": [],
   "source": [
    "optimize!(gp)"
   ]
  },
  {
   "cell_type": "markdown",
   "metadata": {},
   "source": [
    "*explain why we need mcmc here"
   ]
  },
  {
   "cell_type": "code",
   "execution_count": null,
   "metadata": {
    "collapsed": true
   },
   "outputs": [],
   "source": [
    "samples = mcmc(gp)"
   ]
  },
  {
   "cell_type": "code",
   "execution_count": null,
   "metadata": {
    "collapsed": true
   },
   "outputs": [],
   "source": [
    "plot(y=samples[end,:],Geom.line) #check MCMC mixing"
   ]
  },
  {
   "cell_type": "code",
   "execution_count": null,
   "metadata": {
    "collapsed": true
   },
   "outputs": [],
   "source": [
    "xtest = linspace(minimum(gp.X),maximum(gp.X),50);\n",
    "ymean = [];\n",
    "fsamples = [];\n",
    "for i in 1:size(samples,2)\n",
    "    GaussianProcesses.set_params!(gp,samples[:,i])\n",
    "    GaussianProcesses.update_target!(gp)\n",
    "    push!(ymean, predict_y(gp,xtest)[1])\n",
    "end"
   ]
  },
  {
   "cell_type": "code",
   "execution_count": null,
   "metadata": {
    "collapsed": true
   },
   "outputs": [],
   "source": [
    "#Predict \n",
    "layers = []\n",
    "for ym in ymean\n",
    "    push!(layers, layer(x=xtest,y=ym,Geom.line))\n",
    "end\n",
    "\n",
    "plot(layers...,Guide.xlabel(\"X\"),Guide.ylabel(\"y\"))\n",
    "\n",
    "\n",
    "plot(layer(x=xtest,y=mean(ymean),Geom.line),\n",
    "     layer(x=X,y=y,Geom.point))"
   ]
  }
 ],
 "metadata": {
  "kernelspec": {
   "display_name": "Julia 0.5.0",
   "language": "julia",
   "name": "julia-0.5"
  },
  "language_info": {
   "file_extension": ".jl",
   "mimetype": "application/julia",
   "name": "julia",
   "version": "0.5.0"
  }
 },
 "nbformat": 4,
 "nbformat_minor": 2
}
